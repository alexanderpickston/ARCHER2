{
 "cells": [
  {
   "cell_type": "code",
   "execution_count": 1,
   "id": "806c0861",
   "metadata": {},
   "outputs": [
    {
     "name": "stdout",
     "output_type": "stream",
     "text": [
      "README.txt                          python-novice-inflammation-code.zip\n",
      "Untitled.ipynb                      python-novice-inflammation-data.zip\n",
      "\u001b[1m\u001b[36m__pycache__\u001b[m\u001b[m                         quick_function.py\n",
      "\u001b[1m\u001b[36mcode\u001b[m\u001b[m                                \u001b[1m\u001b[36mshell-lesson-data\u001b[m\u001b[m\n",
      "\u001b[1m\u001b[36mdata\u001b[m\u001b[m                                shell-lesson-data.zip\n",
      "myfile.txt                          swc_notebook.ipynb\n",
      "\u001b[1m\u001b[36mplanets\u001b[m\u001b[m                             untitled.py\n",
      "print.sh                            untitled1.py\n"
     ]
    }
   ],
   "source": [
    "!ls"
   ]
  },
  {
   "cell_type": "code",
   "execution_count": 4,
   "id": "fe15c3f3-4dee-4ca3-9411-94dc246543e9",
   "metadata": {},
   "outputs": [],
   "source": [
    "import numpy as np\n",
    "import pandas as pd\n",
    "import matplotlib.pyplot as plt\n",
    "import pathlib"
   ]
  },
  {
   "cell_type": "code",
   "execution_count": null,
   "id": "5231b262-457b-42c5-8716-298a6405dc95",
   "metadata": {},
   "outputs": [],
   "source": [
    "\"Documents/GitHub/ARCHER2/shell-lesson-data/exercise-data/proteins\""
   ]
  }
 ],
 "metadata": {
  "kernelspec": {
   "display_name": "Python 3",
   "language": "python",
   "name": "python3"
  },
  "language_info": {
   "codemirror_mode": {
    "name": "ipython",
    "version": 3
   },
   "file_extension": ".py",
   "mimetype": "text/x-python",
   "name": "python",
   "nbconvert_exporter": "python",
   "pygments_lexer": "ipython3",
   "version": "3.9.10"
  },
  "toc-autonumbering": true
 },
 "nbformat": 4,
 "nbformat_minor": 5
}
