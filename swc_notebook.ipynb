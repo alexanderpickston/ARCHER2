{
 "cells": [
  {
   "cell_type": "code",
   "execution_count": null,
   "id": "806c0861",
   "metadata": {},
   "outputs": [],
   "source": [
    "!ls"
   ]
  },
  {
   "cell_type": "code",
   "execution_count": null,
   "id": "fe15c3f3-4dee-4ca3-9411-94dc246543e9",
   "metadata": {},
   "outputs": [],
   "source": [
    "import numpy as np\n",
    "import pandas as pd\n",
    "import matplotlib.pyplot as plt\n",
    "import pathlib"
   ]
  },
  {
   "cell_type": "code",
   "execution_count": null,
   "id": "5231b262-457b-42c5-8716-298a6405dc95",
   "metadata": {},
   "outputs": [],
   "source": [
    "proteins = pathlib.Path(\"shell-lesson-data/exercise-data/proteins\")\n"
   ]
  },
  {
   "cell_type": "code",
   "execution_count": null,
   "id": "0f3143ff",
   "metadata": {},
   "outputs": [],
   "source": [
    "proteins"
   ]
  },
  {
   "cell_type": "code",
   "execution_count": null,
   "id": "f1605978",
   "metadata": {},
   "outputs": [],
   "source": [
    "for file in proteins.iterdir():\n",
    "    print(file)"
   ]
  },
  {
   "cell_type": "code",
   "execution_count": null,
   "id": "1f8dd567",
   "metadata": {},
   "outputs": [],
   "source": [
    "df = pd.read_csv(file, header = None, skiprows = 2, skipfooter = 2, delim_whitespace = True)"
   ]
  },
  {
   "cell_type": "code",
   "execution_count": null,
   "id": "6dee1ab8",
   "metadata": {},
   "outputs": [],
   "source": [
    "list(proteins.glob(\"*.pdb\"))"
   ]
  },
  {
   "cell_type": "code",
   "execution_count": null,
   "id": "3774a399",
   "metadata": {},
   "outputs": [],
   "source": [
    "proteins_dfs = []\n",
    "\n",
    "for file in proteins.glob(\"*.pdb\"):\n",
    "    proteins_dfs.append(pd.read_csv(\n",
    "        file, \n",
    "        header = None, \n",
    "        skiprows = 2, \n",
    "        skipfooter = 2, \n",
    "        delim_whitespace = True\n",
    "        ))"
   ]
  },
  {
   "cell_type": "code",
   "execution_count": null,
   "id": "d3e94a8d",
   "metadata": {},
   "outputs": [],
   "source": [
    "proteins_dfs = []\n",
    "\n",
    "# creating a temporary variable typically means placing an underscore in front of said veriable.\n",
    "# the final part of the code adds an extra column to the data with just the file stem, and therefore does not include the file format.\n",
    "\n",
    "for file in proteins.glob(\"*.pdb\"):\n",
    "    _tdf = pd.read_csv(\n",
    "        file, \n",
    "        header = None, \n",
    "        skiprows = 2, \n",
    "        skipfooter = 2, \n",
    "        delim_whitespace = True\n",
    "    )\n",
    "\n",
    "    _tdf[\"protein\"] = file.stem\n",
    "    proteins_dfs.append(_tdf)\n",
    "\n",
    "proteins_dfs = pd.concat(proteins_dfs)"
   ]
  },
  {
   "cell_type": "code",
   "execution_count": null,
   "id": "4dc1ba85",
   "metadata": {},
   "outputs": [],
   "source": [
    "protein_dfs = list()\n",
    "for file in proteins.glob(\"*.pdb\"):\n",
    "    _tdf = pd.read_csv(\n",
    "        file, \n",
    "        header=None, \n",
    "        skiprows=2, \n",
    "        skipfooter=2, \n",
    "        delim_whitespace=True\n",
    "    )\n",
    "    _tdf[\"protein\"] = file.stem\n",
    "    protein_dfs.append(_tdf)\n",
    "pd.concat(protein_dfs)"
   ]
  }
 ],
 "metadata": {
  "kernelspec": {
   "display_name": "Python 3",
   "language": "python",
   "name": "python3"
  },
  "language_info": {
   "codemirror_mode": {
    "name": "ipython",
    "version": 3
   },
   "file_extension": ".py",
   "mimetype": "text/x-python",
   "name": "python",
   "nbconvert_exporter": "python",
   "pygments_lexer": "ipython3",
   "version": "3.9.7"
  },
  "toc-autonumbering": true
 },
 "nbformat": 4,
 "nbformat_minor": 5
}
