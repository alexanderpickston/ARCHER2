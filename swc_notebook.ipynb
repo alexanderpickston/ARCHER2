{
 "cells": [
  {
   "cell_type": "code",
   "execution_count": 101,
   "id": "806c0861",
   "metadata": {},
   "outputs": [
    {
     "name": "stdout",
     "output_type": "stream",
     "text": [
      "README.txt                          python-novice-inflammation-data.zip\n",
      "Untitled.ipynb                      quick_function.py\n",
      "\u001b[1m\u001b[36m__pycache__\u001b[m\u001b[m                         \u001b[1m\u001b[36mshell-lesson-data\u001b[m\u001b[m\n",
      "\u001b[1m\u001b[36mcode\u001b[m\u001b[m                                shell-lesson-data.zip\n",
      "\u001b[1m\u001b[36mdata\u001b[m\u001b[m                                swc_notebook.ipynb\n",
      "myfile.txt                          swc_notebook_SQL.ipynb\n",
      "\u001b[1m\u001b[36mplanets\u001b[m\u001b[m                             untitled.py\n",
      "print.sh                            untitled1.py\n",
      "python-novice-inflammation-code.zip\n"
     ]
    }
   ],
   "source": [
    "!ls"
   ]
  },
  {
   "cell_type": "code",
   "execution_count": 102,
   "id": "fe15c3f3-4dee-4ca3-9411-94dc246543e9",
   "metadata": {},
   "outputs": [],
   "source": [
    "import numpy as np\n",
    "import pandas as pd\n",
    "import matplotlib.pyplot as plt\n",
    "import pathlib"
   ]
  },
  {
   "cell_type": "code",
   "execution_count": 103,
   "id": "5231b262-457b-42c5-8716-298a6405dc95",
   "metadata": {},
   "outputs": [],
   "source": [
    "proteins = pathlib.Path(\"shell-lesson-data/exercise-data/proteins\")\n"
   ]
  },
  {
   "cell_type": "code",
   "execution_count": 104,
   "id": "0f3143ff",
   "metadata": {},
   "outputs": [
    {
     "data": {
      "text/plain": [
       "PosixPath('shell-lesson-data/exercise-data/proteins')"
      ]
     },
     "execution_count": 104,
     "metadata": {},
     "output_type": "execute_result"
    }
   ],
   "source": [
    "proteins"
   ]
  },
  {
   "cell_type": "code",
   "execution_count": 105,
   "id": "f1605978",
   "metadata": {},
   "outputs": [
    {
     "name": "stdout",
     "output_type": "stream",
     "text": [
      "shell-lesson-data/exercise-data/proteins/propane.pdb\n",
      "shell-lesson-data/exercise-data/proteins/loop.sh\n",
      "shell-lesson-data/exercise-data/proteins/octane.pdb\n",
      "shell-lesson-data/exercise-data/proteins/cubane.pdb\n",
      "shell-lesson-data/exercise-data/proteins/ethane.pdb\n",
      "shell-lesson-data/exercise-data/proteins/pentane.pdb\n",
      "shell-lesson-data/exercise-data/proteins/methane.pdb\n"
     ]
    }
   ],
   "source": [
    "for file in proteins.iterdir():\n",
    "    print(file)"
   ]
  },
  {
   "cell_type": "code",
   "execution_count": 106,
   "id": "1f8dd567",
   "metadata": {},
   "outputs": [
    {
     "name": "stderr",
     "output_type": "stream",
     "text": [
      "/var/folders/69/6w_l7snx2337833ct5yy0bn00000gn/T/ipykernel_75728/2193456122.py:1: ParserWarning: Falling back to the 'python' engine because the 'c' engine does not support skipfooter; you can avoid this warning by specifying engine='python'.\n",
      "  df = pd.read_csv(file, header = None, skiprows = 2, skipfooter = 2, delim_whitespace = True)\n"
     ]
    }
   ],
   "source": [
    "df = pd.read_csv(file, header = None, skiprows = 2, skipfooter = 2, delim_whitespace = True)"
   ]
  },
  {
   "cell_type": "code",
   "execution_count": 107,
   "id": "6dee1ab8",
   "metadata": {},
   "outputs": [
    {
     "data": {
      "text/plain": [
       "[PosixPath('shell-lesson-data/exercise-data/proteins/propane.pdb'),\n",
       " PosixPath('shell-lesson-data/exercise-data/proteins/octane.pdb'),\n",
       " PosixPath('shell-lesson-data/exercise-data/proteins/cubane.pdb'),\n",
       " PosixPath('shell-lesson-data/exercise-data/proteins/ethane.pdb'),\n",
       " PosixPath('shell-lesson-data/exercise-data/proteins/pentane.pdb'),\n",
       " PosixPath('shell-lesson-data/exercise-data/proteins/methane.pdb')]"
      ]
     },
     "execution_count": 107,
     "metadata": {},
     "output_type": "execute_result"
    }
   ],
   "source": [
    "list(proteins.glob(\"*.pdb\"))"
   ]
  },
  {
   "cell_type": "code",
   "execution_count": 108,
   "id": "3774a399",
   "metadata": {},
   "outputs": [
    {
     "name": "stderr",
     "output_type": "stream",
     "text": [
      "/var/folders/69/6w_l7snx2337833ct5yy0bn00000gn/T/ipykernel_75728/2305678579.py:4: ParserWarning: Falling back to the 'python' engine because the 'c' engine does not support skipfooter; you can avoid this warning by specifying engine='python'.\n",
      "  proteins_dfs.append(pd.read_csv(\n",
      "/var/folders/69/6w_l7snx2337833ct5yy0bn00000gn/T/ipykernel_75728/2305678579.py:4: ParserWarning: Falling back to the 'python' engine because the 'c' engine does not support skipfooter; you can avoid this warning by specifying engine='python'.\n",
      "  proteins_dfs.append(pd.read_csv(\n",
      "/var/folders/69/6w_l7snx2337833ct5yy0bn00000gn/T/ipykernel_75728/2305678579.py:4: ParserWarning: Falling back to the 'python' engine because the 'c' engine does not support skipfooter; you can avoid this warning by specifying engine='python'.\n",
      "  proteins_dfs.append(pd.read_csv(\n",
      "/var/folders/69/6w_l7snx2337833ct5yy0bn00000gn/T/ipykernel_75728/2305678579.py:4: ParserWarning: Falling back to the 'python' engine because the 'c' engine does not support skipfooter; you can avoid this warning by specifying engine='python'.\n",
      "  proteins_dfs.append(pd.read_csv(\n",
      "/var/folders/69/6w_l7snx2337833ct5yy0bn00000gn/T/ipykernel_75728/2305678579.py:4: ParserWarning: Falling back to the 'python' engine because the 'c' engine does not support skipfooter; you can avoid this warning by specifying engine='python'.\n",
      "  proteins_dfs.append(pd.read_csv(\n",
      "/var/folders/69/6w_l7snx2337833ct5yy0bn00000gn/T/ipykernel_75728/2305678579.py:4: ParserWarning: Falling back to the 'python' engine because the 'c' engine does not support skipfooter; you can avoid this warning by specifying engine='python'.\n",
      "  proteins_dfs.append(pd.read_csv(\n"
     ]
    }
   ],
   "source": [
    "proteins_dfs = []\n",
    "\n",
    "for file in proteins.glob(\"*.pdb\"):\n",
    "    proteins_dfs.append(pd.read_csv(\n",
    "        file, \n",
    "        header = None, \n",
    "        skiprows = 2, \n",
    "        skipfooter = 2, \n",
    "        delim_whitespace = True\n",
    "        ))"
   ]
  },
  {
   "cell_type": "code",
   "execution_count": 109,
   "id": "d3e94a8d",
   "metadata": {},
   "outputs": [
    {
     "name": "stderr",
     "output_type": "stream",
     "text": [
      "/var/folders/69/6w_l7snx2337833ct5yy0bn00000gn/T/ipykernel_75728/1099860556.py:7: ParserWarning: Falling back to the 'python' engine because the 'c' engine does not support skipfooter; you can avoid this warning by specifying engine='python'.\n",
      "  _tdf = pd.read_csv(\n",
      "/var/folders/69/6w_l7snx2337833ct5yy0bn00000gn/T/ipykernel_75728/1099860556.py:7: ParserWarning: Falling back to the 'python' engine because the 'c' engine does not support skipfooter; you can avoid this warning by specifying engine='python'.\n",
      "  _tdf = pd.read_csv(\n",
      "/var/folders/69/6w_l7snx2337833ct5yy0bn00000gn/T/ipykernel_75728/1099860556.py:7: ParserWarning: Falling back to the 'python' engine because the 'c' engine does not support skipfooter; you can avoid this warning by specifying engine='python'.\n",
      "  _tdf = pd.read_csv(\n",
      "/var/folders/69/6w_l7snx2337833ct5yy0bn00000gn/T/ipykernel_75728/1099860556.py:7: ParserWarning: Falling back to the 'python' engine because the 'c' engine does not support skipfooter; you can avoid this warning by specifying engine='python'.\n",
      "  _tdf = pd.read_csv(\n",
      "/var/folders/69/6w_l7snx2337833ct5yy0bn00000gn/T/ipykernel_75728/1099860556.py:7: ParserWarning: Falling back to the 'python' engine because the 'c' engine does not support skipfooter; you can avoid this warning by specifying engine='python'.\n",
      "  _tdf = pd.read_csv(\n",
      "/var/folders/69/6w_l7snx2337833ct5yy0bn00000gn/T/ipykernel_75728/1099860556.py:7: ParserWarning: Falling back to the 'python' engine because the 'c' engine does not support skipfooter; you can avoid this warning by specifying engine='python'.\n",
      "  _tdf = pd.read_csv(\n"
     ]
    }
   ],
   "source": [
    "proteins_dfs = []\n",
    "\n",
    "# creating a temporary variable typically means placing an underscore in front of said veriable.\n",
    "# the final part of the code adds an extra column to the data with just the file stem, and therefore does not include the file format.\n",
    "\n",
    "for file in proteins.glob(\"*.pdb\"):\n",
    "    _tdf = pd.read_csv(\n",
    "        file, \n",
    "        header = None, \n",
    "        skiprows = 2, \n",
    "        skipfooter = 2, \n",
    "        delim_whitespace = True\n",
    "    )\n",
    "\n",
    "    _tdf[\"protein\"] = file.stem\n",
    "    proteins_dfs.append(_tdf)\n",
    "\n",
    "proteins_dfs = pd.concat(proteins_dfs)"
   ]
  },
  {
   "cell_type": "code",
   "execution_count": 110,
   "id": "4dc1ba85",
   "metadata": {},
   "outputs": [
    {
     "name": "stderr",
     "output_type": "stream",
     "text": [
      "/var/folders/69/6w_l7snx2337833ct5yy0bn00000gn/T/ipykernel_75728/4227707702.py:3: ParserWarning: Falling back to the 'python' engine because the 'c' engine does not support skipfooter; you can avoid this warning by specifying engine='python'.\n",
      "  _tdf = pd.read_csv(\n",
      "/var/folders/69/6w_l7snx2337833ct5yy0bn00000gn/T/ipykernel_75728/4227707702.py:3: ParserWarning: Falling back to the 'python' engine because the 'c' engine does not support skipfooter; you can avoid this warning by specifying engine='python'.\n",
      "  _tdf = pd.read_csv(\n",
      "/var/folders/69/6w_l7snx2337833ct5yy0bn00000gn/T/ipykernel_75728/4227707702.py:3: ParserWarning: Falling back to the 'python' engine because the 'c' engine does not support skipfooter; you can avoid this warning by specifying engine='python'.\n",
      "  _tdf = pd.read_csv(\n",
      "/var/folders/69/6w_l7snx2337833ct5yy0bn00000gn/T/ipykernel_75728/4227707702.py:3: ParserWarning: Falling back to the 'python' engine because the 'c' engine does not support skipfooter; you can avoid this warning by specifying engine='python'.\n",
      "  _tdf = pd.read_csv(\n",
      "/var/folders/69/6w_l7snx2337833ct5yy0bn00000gn/T/ipykernel_75728/4227707702.py:3: ParserWarning: Falling back to the 'python' engine because the 'c' engine does not support skipfooter; you can avoid this warning by specifying engine='python'.\n",
      "  _tdf = pd.read_csv(\n",
      "/var/folders/69/6w_l7snx2337833ct5yy0bn00000gn/T/ipykernel_75728/4227707702.py:3: ParserWarning: Falling back to the 'python' engine because the 'c' engine does not support skipfooter; you can avoid this warning by specifying engine='python'.\n",
      "  _tdf = pd.read_csv(\n"
     ]
    },
    {
     "data": {
      "text/html": [
       "<div>\n",
       "<style scoped>\n",
       "    .dataframe tbody tr th:only-of-type {\n",
       "        vertical-align: middle;\n",
       "    }\n",
       "\n",
       "    .dataframe tbody tr th {\n",
       "        vertical-align: top;\n",
       "    }\n",
       "\n",
       "    .dataframe thead th {\n",
       "        text-align: right;\n",
       "    }\n",
       "</style>\n",
       "<table border=\"1\" class=\"dataframe\">\n",
       "  <thead>\n",
       "    <tr style=\"text-align: right;\">\n",
       "      <th></th>\n",
       "      <th>0</th>\n",
       "      <th>1</th>\n",
       "      <th>2</th>\n",
       "      <th>3</th>\n",
       "      <th>4</th>\n",
       "      <th>5</th>\n",
       "      <th>6</th>\n",
       "      <th>7</th>\n",
       "      <th>8</th>\n",
       "      <th>protein</th>\n",
       "    </tr>\n",
       "  </thead>\n",
       "  <tbody>\n",
       "    <tr>\n",
       "      <th>0</th>\n",
       "      <td>ATOM</td>\n",
       "      <td>1</td>\n",
       "      <td>C</td>\n",
       "      <td>1</td>\n",
       "      <td>1.241</td>\n",
       "      <td>0.444</td>\n",
       "      <td>0.349</td>\n",
       "      <td>1.0</td>\n",
       "      <td>0.0</td>\n",
       "      <td>propane</td>\n",
       "    </tr>\n",
       "    <tr>\n",
       "      <th>1</th>\n",
       "      <td>ATOM</td>\n",
       "      <td>2</td>\n",
       "      <td>C</td>\n",
       "      <td>1</td>\n",
       "      <td>-0.011</td>\n",
       "      <td>-0.441</td>\n",
       "      <td>0.333</td>\n",
       "      <td>1.0</td>\n",
       "      <td>0.0</td>\n",
       "      <td>propane</td>\n",
       "    </tr>\n",
       "    <tr>\n",
       "      <th>2</th>\n",
       "      <td>ATOM</td>\n",
       "      <td>3</td>\n",
       "      <td>C</td>\n",
       "      <td>1</td>\n",
       "      <td>-1.176</td>\n",
       "      <td>0.296</td>\n",
       "      <td>-0.332</td>\n",
       "      <td>1.0</td>\n",
       "      <td>0.0</td>\n",
       "      <td>propane</td>\n",
       "    </tr>\n",
       "    <tr>\n",
       "      <th>3</th>\n",
       "      <td>ATOM</td>\n",
       "      <td>4</td>\n",
       "      <td>H</td>\n",
       "      <td>1</td>\n",
       "      <td>1.516</td>\n",
       "      <td>0.699</td>\n",
       "      <td>-0.675</td>\n",
       "      <td>1.0</td>\n",
       "      <td>0.0</td>\n",
       "      <td>propane</td>\n",
       "    </tr>\n",
       "    <tr>\n",
       "      <th>4</th>\n",
       "      <td>ATOM</td>\n",
       "      <td>5</td>\n",
       "      <td>H</td>\n",
       "      <td>1</td>\n",
       "      <td>2.058</td>\n",
       "      <td>-0.099</td>\n",
       "      <td>0.827</td>\n",
       "      <td>1.0</td>\n",
       "      <td>0.0</td>\n",
       "      <td>propane</td>\n",
       "    </tr>\n",
       "    <tr>\n",
       "      <th>...</th>\n",
       "      <td>...</td>\n",
       "      <td>...</td>\n",
       "      <td>...</td>\n",
       "      <td>...</td>\n",
       "      <td>...</td>\n",
       "      <td>...</td>\n",
       "      <td>...</td>\n",
       "      <td>...</td>\n",
       "      <td>...</td>\n",
       "      <td>...</td>\n",
       "    </tr>\n",
       "    <tr>\n",
       "      <th>0</th>\n",
       "      <td>ATOM</td>\n",
       "      <td>1</td>\n",
       "      <td>C</td>\n",
       "      <td>1</td>\n",
       "      <td>0.257</td>\n",
       "      <td>-0.363</td>\n",
       "      <td>0.000</td>\n",
       "      <td>1.0</td>\n",
       "      <td>0.0</td>\n",
       "      <td>methane</td>\n",
       "    </tr>\n",
       "    <tr>\n",
       "      <th>1</th>\n",
       "      <td>ATOM</td>\n",
       "      <td>2</td>\n",
       "      <td>H</td>\n",
       "      <td>1</td>\n",
       "      <td>0.257</td>\n",
       "      <td>0.727</td>\n",
       "      <td>0.000</td>\n",
       "      <td>1.0</td>\n",
       "      <td>0.0</td>\n",
       "      <td>methane</td>\n",
       "    </tr>\n",
       "    <tr>\n",
       "      <th>2</th>\n",
       "      <td>ATOM</td>\n",
       "      <td>3</td>\n",
       "      <td>H</td>\n",
       "      <td>1</td>\n",
       "      <td>0.771</td>\n",
       "      <td>-0.727</td>\n",
       "      <td>0.890</td>\n",
       "      <td>1.0</td>\n",
       "      <td>0.0</td>\n",
       "      <td>methane</td>\n",
       "    </tr>\n",
       "    <tr>\n",
       "      <th>3</th>\n",
       "      <td>ATOM</td>\n",
       "      <td>4</td>\n",
       "      <td>H</td>\n",
       "      <td>1</td>\n",
       "      <td>0.771</td>\n",
       "      <td>-0.727</td>\n",
       "      <td>-0.890</td>\n",
       "      <td>1.0</td>\n",
       "      <td>0.0</td>\n",
       "      <td>methane</td>\n",
       "    </tr>\n",
       "    <tr>\n",
       "      <th>4</th>\n",
       "      <td>ATOM</td>\n",
       "      <td>5</td>\n",
       "      <td>H</td>\n",
       "      <td>1</td>\n",
       "      <td>-0.771</td>\n",
       "      <td>-0.727</td>\n",
       "      <td>0.000</td>\n",
       "      <td>1.0</td>\n",
       "      <td>0.0</td>\n",
       "      <td>methane</td>\n",
       "    </tr>\n",
       "  </tbody>\n",
       "</table>\n",
       "<p>83 rows × 10 columns</p>\n",
       "</div>"
      ],
      "text/plain": [
       "       0  1  2  3      4      5      6    7    8  protein\n",
       "0   ATOM  1  C  1  1.241  0.444  0.349  1.0  0.0  propane\n",
       "1   ATOM  2  C  1 -0.011 -0.441  0.333  1.0  0.0  propane\n",
       "2   ATOM  3  C  1 -1.176  0.296 -0.332  1.0  0.0  propane\n",
       "3   ATOM  4  H  1  1.516  0.699 -0.675  1.0  0.0  propane\n",
       "4   ATOM  5  H  1  2.058 -0.099  0.827  1.0  0.0  propane\n",
       "..   ... .. .. ..    ...    ...    ...  ...  ...      ...\n",
       "0   ATOM  1  C  1  0.257 -0.363  0.000  1.0  0.0  methane\n",
       "1   ATOM  2  H  1  0.257  0.727  0.000  1.0  0.0  methane\n",
       "2   ATOM  3  H  1  0.771 -0.727  0.890  1.0  0.0  methane\n",
       "3   ATOM  4  H  1  0.771 -0.727 -0.890  1.0  0.0  methane\n",
       "4   ATOM  5  H  1 -0.771 -0.727  0.000  1.0  0.0  methane\n",
       "\n",
       "[83 rows x 10 columns]"
      ]
     },
     "execution_count": 110,
     "metadata": {},
     "output_type": "execute_result"
    }
   ],
   "source": [
    "protein_dfs = list()\n",
    "for file in proteins.glob(\"*.pdb\"):\n",
    "    _tdf = pd.read_csv(\n",
    "        file, \n",
    "        header=None, \n",
    "        skiprows=2, \n",
    "        skipfooter=2, \n",
    "        delim_whitespace=True\n",
    "    )\n",
    "    _tdf[\"protein\"] = file.stem\n",
    "    protein_dfs.append(_tdf)\n",
    "pd.concat(protein_dfs)"
   ]
  }
 ],
 "metadata": {
  "kernelspec": {
   "display_name": "Python 3",
   "language": "python",
   "name": "python3"
  },
  "language_info": {
   "codemirror_mode": {
    "name": "ipython",
    "version": 3
   },
   "file_extension": ".py",
   "mimetype": "text/x-python",
   "name": "python",
   "nbconvert_exporter": "python",
   "pygments_lexer": "ipython3",
   "version": "3.9.7"
  },
  "toc-autonumbering": true
 },
 "nbformat": 4,
 "nbformat_minor": 5
}
