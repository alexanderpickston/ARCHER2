{
 "cells": [
  {
   "cell_type": "markdown",
   "id": "3971b5f1",
   "metadata": {},
   "source": [
    "# SWC Carpentry HWU"
   ]
  },
  {
   "cell_type": "markdown",
   "id": "e9cc08b1-dfe4-4656-98ac-0e0d50f3244d",
   "metadata": {},
   "source": [
    "## Subheading 1\n",
    "\n",
    "Some plain text which explains what I am doing\n",
    "\n",
    "### Subheading 2\n",
    "\n",
    "Some more plain text which explains what I am doing\n",
    "\n",
    "- A bulleted list\n",
    "- Add another bullet here\n",
    "\n",
    "1. An enumerated list\n",
    "2. And another item to the enumerated list"
   ]
  },
  {
   "cell_type": "markdown",
   "id": "f4d889f4",
   "metadata": {},
   "source": [
    "$$ m = \\frac{1}{N} \\sum_{i=1} ^{N} x(i)"
   ]
  },
  {
   "cell_type": "markdown",
   "id": "e2fc5364",
   "metadata": {},
   "source": [
    "[Github] (https://github.com/alexanderpickston?tab=repositories)"
   ]
  },
  {
   "cell_type": "markdown",
   "id": "6f601901",
   "metadata": {},
   "source": [
    "- [ ] task 1"
   ]
  },
  {
   "cell_type": "code",
   "execution_count": null,
   "id": "6e30eb04-326f-41dd-9711-61f85d04c4cb",
   "metadata": {},
   "outputs": [],
   "source": []
  }
 ],
 "metadata": {
  "kernelspec": {
   "display_name": "Python 3",
   "language": "python",
   "name": "python3"
  },
  "language_info": {
   "codemirror_mode": {
    "name": "ipython",
    "version": 3
   },
   "file_extension": ".py",
   "mimetype": "text/x-python",
   "name": "python",
   "nbconvert_exporter": "python",
   "pygments_lexer": "ipython3",
   "version": "3.9.10"
  },
  "toc-autonumbering": true
 },
 "nbformat": 4,
 "nbformat_minor": 5
}
