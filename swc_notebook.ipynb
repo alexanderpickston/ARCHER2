{
 "cells": [
  {
   "cell_type": "markdown",
   "id": "3971b5f1",
   "metadata": {},
   "source": [
    "# SWC Carpentry HWU"
   ]
  },
  {
   "cell_type": "markdown",
   "id": "e9cc08b1-dfe4-4656-98ac-0e0d50f3244d",
   "metadata": {},
   "source": [
    "## Subheading 1\n",
    "\n",
    "Some plain text which explains what I am doing\n",
    "\n",
    "### Subheading 2\n",
    "\n",
    "Some more plain text which explains what I am doing\n",
    "\n",
    "- A bulleted list\n",
    "- Add another bullet here\n",
    "\n",
    "1. An enumerated list\n",
    "2. And another item to the enumerated list"
   ]
  },
  {
   "cell_type": "code",
   "execution_count": null,
   "id": "f4d889f4",
   "metadata": {},
   "outputs": [],
   "source": []
  }
 ],
 "metadata": {
  "kernelspec": {
   "display_name": "Python 3",
   "language": "python",
   "name": "python3"
  },
  "language_info": {
   "codemirror_mode": {
    "name": "ipython",
    "version": 3
   },
   "file_extension": ".py",
   "mimetype": "text/x-python",
   "name": "python",
   "nbconvert_exporter": "python",
   "pygments_lexer": "ipython3",
   "version": "3.9.7"
  }
 },
 "nbformat": 4,
 "nbformat_minor": 5
}
